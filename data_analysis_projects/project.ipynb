{
 "cells": [
  {
   "cell_type": "code",
   "execution_count": 4,
   "metadata": {},
   "outputs": [
    {
     "name": "stderr",
     "output_type": "stream",
     "text": [
      "C:\\Users\\TAMILKUMARAN\\AppData\\Local\\Temp\\ipykernel_18736\\2243676003.py:7: UserWarning: Could not infer format, so each element will be parsed individually, falling back to `dateutil`. To ensure parsing is consistent and as-expected, please specify a format.\n",
      "  df['Time'] = pd.to_datetime(df['Time'])\n"
     ]
    },
    {
     "name": "stdout",
     "output_type": "stream",
     "text": [
      "         Date    Open    High     Low   Close  Volume                Time  \\\n",
      "0  01-01-2024  642.20  642.70  641.00  641.95   89481 2024-04-10 09:15:00   \n",
      "1  01-01-2024  641.95  642.85  641.95  642.45   48965 2024-04-10 09:16:00   \n",
      "2  01-01-2024  642.70  644.00  642.70  643.50   65729 2024-04-10 09:17:00   \n",
      "3  01-01-2024  643.90  644.55  643.30  643.40   47909 2024-04-10 09:18:00   \n",
      "4  01-01-2024  643.70  644.10  643.45  643.75   27645 2024-04-10 09:19:00   \n",
      "\n",
      "   rank  \n",
      "0  22.0  \n",
      "1  21.0  \n",
      "2  12.0  \n",
      "3  18.0  \n",
      "4  20.0  \n"
     ]
    }
   ],
   "source": [
    "import pandas as pd\n",
    "\n",
    "# Load the data\n",
    "df = pd.read_csv(\"SBIN_Data.csv\")\n",
    "\n",
    "# Convert 'Time' column to datetime\n",
    "df['Time'] = pd.to_datetime(df['Time'])\n",
    "\n",
    "# Filter data to include only working days\n",
    "df = df[df['Time'].dt.dayofweek < 5]  # Assuming Monday to Friday are working days\n",
    "\n",
    "# Group data by time and calculate volume rank for each time slot\n",
    "df['rank'] = df.groupby(df['Time'].dt.time)['Volume'].transform(lambda x: x.rank(ascending=False, method='first'))\n",
    "\n",
    "# Display the dataframe with rank column added\n",
    "print(df.head())\n",
    "\n",
    "\n"
   ]
  }
 ],
 "metadata": {
  "kernelspec": {
   "display_name": "Python 3",
   "language": "python",
   "name": "python3"
  },
  "language_info": {
   "codemirror_mode": {
    "name": "ipython",
    "version": 3
   },
   "file_extension": ".py",
   "mimetype": "text/x-python",
   "name": "python",
   "nbconvert_exporter": "python",
   "pygments_lexer": "ipython3",
   "version": "3.12.0"
  }
 },
 "nbformat": 4,
 "nbformat_minor": 2
}
